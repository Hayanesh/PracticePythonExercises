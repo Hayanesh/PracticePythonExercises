{
 "cells": [
  {
   "cell_type": "code",
   "execution_count": 1,
   "metadata": {
    "collapsed": true
   },
   "outputs": [],
   "source": [
    "import requests\n",
    "from bs4 import BeautifulSoup"
   ]
  },
  {
   "cell_type": "code",
   "execution_count": 5,
   "metadata": {
    "collapsed": false
   },
   "outputs": [
    {
     "name": "stdout",
     "output_type": "stream",
     "text": [
      "Turkey Detains Thousands of Military Personnel After Attempted Coup\n",
      "265 Killed and Many More Wounded as Factions Clash\n",
      "New Worry for U.S. in Turbulent Region\n",
      "The Morning After in Turkey\n",
      "ISIS Claims Truck Attacker in France Was Its ‘Soldier’\n",
      "Driver Was Known as Moody Oddball\n",
      "After Attack, a New Fear of the Ordinary\n",
      "‘There’s Something That’s Not Right. Someone Lost Control of Their Truck.’\n",
      "Witnesses Describe Nice Attack\n",
      "Congress Releases File on Possible Saudi Ties to 9/11\n",
      "Man Held in Killing Spree of Homeless Men in San Diego\n",
      "Case Changes Story on Zika: Women Can Give It to Men\n",
      "Turkey Detains Thousands of Military Personnel After Attempted Coup\n",
      "265 Killed and Many More Wounded as Factions Clash\n",
      "New Worry for U.S. in Turbulent Region\n",
      "The Morning After in Turkey\n",
      "ISIS Claims Truck Attacker in France Was Its ‘Soldier’\n",
      "Driver Was Known as Moody Oddball\n",
      "After Attack, a New Fear of the Ordinary\n",
      "‘There’s Something That’s Not Right. Someone Lost Control of Their Truck.’\n",
      "Witnesses Describe Nice Attack\n",
      "Congress Releases File on Possible Saudi Ties to 9/11\n",
      "Man Held in Killing Spree of Homeless Men in San Diego\n",
      "Case Changes Story on Zika: Women Can Give It to Men\n"
     ]
    }
   ],
   "source": [
    " base_url = 'http://www.nytimes.com'\n",
    "r = requests.get(base_url)\n",
    "soup = BeautifulSoup(r.text,\"html\")\n",
    " \n",
    "for story_heading in soup.find_all(class_=\"story-heading\"): \n",
    "    if story_heading.a: \n",
    "        print(story_heading.a.text.replace(\"\\n\", \" \").strip())\n",
    "    else: \n",
    "        print(story_heading.contents[0].strip())"
   ]
  }
 ],
 "metadata": {
  "kernelspec": {
   "display_name": "Python 2",
   "language": "python",
   "name": "python2"
  },
  "language_info": {
   "codemirror_mode": {
    "name": "ipython",
    "version": 2
   },
   "file_extension": ".py",
   "mimetype": "text/x-python",
   "name": "python",
   "nbconvert_exporter": "python",
   "pygments_lexer": "ipython2",
   "version": "2.7.11"
  }
 },
 "nbformat": 4,
 "nbformat_minor": 0
}
