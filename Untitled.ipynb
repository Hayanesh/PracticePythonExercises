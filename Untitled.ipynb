{
 "cells": [
  {
   "cell_type": "code",
   "execution_count": 4,
   "metadata": {
    "collapsed": false
   },
   "outputs": [
    {
     "name": "stdout",
     "output_type": "stream",
     "text": [
      "Please guess a number\n",
      "Is yo2ur guess 50? (0 means it's too low, 1 means it's your guess and 2 means it's too high) 0\n",
      "Is your guess 75? (0 means it's too low, 1 means it's your guess and 2 means it's too high) 0\n",
      "Is your guess 88? (0 means it's too low, 1 means it's your guess and 2 means it's too high) 0\n",
      "Is your guess 94? (0 means it's too low, 1 means it's your guess and 2 means it's too high) 0\n",
      "Is your guess 97? (0 means it's too low, 1 means it's your guess and 2 means it's too high) 0\n",
      "Is your guess 99? (0 means it's too low, 1 means it's your guess and 2 means it's too high) 2\n",
      "Is your guess 98? (0 means it's too low, 1 means it's your guess and 2 means it's too high) 1\n",
      "It took 7 times to guess your number\n"
     ]
    }
   ],
   "source": [
    "def guess():\n",
    "    i = 0\n",
    "    # i is the lowest number in range of possible guess\n",
    "    j = 100\n",
    "    # j is the highest number in range of possible guesses\n",
    "    m = 50\n",
    "    # m is the middle number in range of possible guesses\n",
    "    counter = 1\n",
    "    # counter is the number of guesses take.\n",
    "    print \"Please guess a number\"\n",
    "    condition = input(\"Is yo2ur guess \" + str(m) + \"? (0 means it's too low, 1 means it's your guess and 2 means it's too high) \")\n",
    "    while condition != 1:\n",
    "        counter += 1\n",
    "        if condition == 0:\n",
    "            i = m + 1\n",
    "        elif condition == 2:\n",
    "            j = m - 1\n",
    "        m = (i + j) / 2\n",
    "        condition = input(\"Is your guess \" + str(m) + \"? (0 means it's too low, 1 means it's your guess and 2 means it's too high) \")\n",
    "    print \"It took\" , counter , \"times to guess your number\"\n",
    "guess()"
   ]
  }
 ],
 "metadata": {
  "kernelspec": {
   "display_name": "Python 2",
   "language": "python",
   "name": "python2"
  },
  "language_info": {
   "codemirror_mode": {
    "name": "ipython",
    "version": 2
   },
   "file_extension": ".py",
   "mimetype": "text/x-python",
   "name": "python",
   "nbconvert_exporter": "python",
   "pygments_lexer": "ipython2",
   "version": "2.7.11"
  }
 },
 "nbformat": 4,
 "nbformat_minor": 0
}
