{
 "cells": [
  {
   "cell_type": "code",
   "execution_count": 1,
   "metadata": {
    "collapsed": true
   },
   "outputs": [],
   "source": [
    "from random import randint"
   ]
  },
  {
   "cell_type": "code",
   "execution_count": 2,
   "metadata": {
    "collapsed": false
   },
   "outputs": [
    {
     "name": "stdout",
     "output_type": "stream",
     "text": [
      "[5, 2, 7, 1]\n"
     ]
    }
   ],
   "source": [
    "num = [randint(0,9) for x in range(4)]\n",
    "print num"
   ]
  },
  {
   "cell_type": "code",
   "execution_count": 3,
   "metadata": {
    "collapsed": false
   },
   "outputs": [
    {
     "name": "stdout",
     "output_type": "stream",
     "text": [
      "Enter a number...1234\n",
      "2 cows,2 bulls\n",
      "Enter a number...2345\n",
      "2 cows,2 bulls\n",
      "Enter a number...3456\n",
      "1 cows,3 bulls\n",
      "Enter a number...2456\n",
      "2 cows,2 bulls\n",
      "Enter a number...1156\n",
      "3 cows,1 bulls\n",
      "Enter a number...2465\n",
      "2 cows,2 bulls\n",
      "Enter a number...1256\n",
      "3 cows,1 bulls\n",
      "Enter a number...0006\n",
      "0 cows,4 bulls\n",
      "Enter a number...0007\n",
      "1 cows,3 bulls\n",
      "Enter a number...1257\n",
      "Your guess in right...!.The number is 5271\n"
     ]
    }
   ],
   "source": [
    "while True:\n",
    "    b=[]\n",
    "    cows,bull = 0,0\n",
    "    a = raw_input(\"Enter a number...\");\n",
    "    if a=='exit':\n",
    "        break\n",
    "    else:\n",
    "        list_a = [int(x) for x in a]\n",
    "        for x in list_a:\n",
    "            if int(x) in num:\n",
    "                b.append(x)\n",
    "        cows = len(b)\n",
    "        bull = 4-cows\n",
    "        if cows==4:\n",
    "            print \"Your guess in right...!.The number is %s\"%(\"\".join(str(x) for x in num))\n",
    "            break\n",
    "        else:\n",
    "            print \"%d cows,%d bulls\"%(cows,bull)"
   ]
  },
  {
   "cell_type": "code",
   "execution_count": null,
   "metadata": {
    "collapsed": true
   },
   "outputs": [],
   "source": []
  }
 ],
 "metadata": {
  "kernelspec": {
   "display_name": "Python 2",
   "language": "python",
   "name": "python2"
  },
  "language_info": {
   "codemirror_mode": {
    "name": "ipython",
    "version": 2
   },
   "file_extension": ".py",
   "mimetype": "text/x-python",
   "name": "python",
   "nbconvert_exporter": "python",
   "pygments_lexer": "ipython2",
   "version": "2.7.11"
  }
 },
 "nbformat": 4,
 "nbformat_minor": 0
}
