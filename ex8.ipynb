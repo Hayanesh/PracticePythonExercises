{
 "cells": [
  {
   "cell_type": "code",
   "execution_count": 2,
   "metadata": {
    "collapsed": false
   },
   "outputs": [
    {
     "name": "stdout",
     "output_type": "stream",
     "text": [
      "Pick one: rock,paper,scissors\n",
      "Player a:rock\n",
      "Player b:scissors\n",
      "Player a wins..!\n",
      "Do you want to continue...yes\n",
      "Player a:paper\n",
      "Player b:rock\n",
      "Player a wins..!\n",
      "Do you want to continue...yes\n",
      "Player a:rock\n",
      "Player b:rock\n",
      "Draw.Continue..\n",
      "\n",
      "Player a:scissors\n",
      "Player b:rock\n",
      "Player b wins..!\n",
      "Do you want to continue...no\n"
     ]
    }
   ],
   "source": [
    "print (\"\"\"Pick one: rock,paper,scissors\"\"\")\n",
    "game_dict = {'rock':1,'scissors':2,'paper':3}\n",
    "while True:\n",
    "    player_a = raw_input(\"Player a:\")\n",
    "    player_b = raw_input(\"Player b:\")\n",
    "    a = game_dict[player_a]\n",
    "    b = game_dict[player_b]\n",
    "    diff = a - b\n",
    "    if diff in [-1,2]:\n",
    "        print \"Player a wins..!\"\n",
    "        if raw_input(\"Do you want to continue...\")=='yes':\n",
    "            continue\n",
    "        else:\n",
    "            break\n",
    "    elif diff in [-2,1]:\n",
    "        print \"Player b wins..!\"\n",
    "        if raw_input(\"Do you want to continue...\")=='yes':\n",
    "            continue\n",
    "        else:\n",
    "            break\n",
    "    else:\n",
    "        print(\"Draw.Continue..\\n\")"
   ]
  }
 ],
 "metadata": {
  "kernelspec": {
   "display_name": "Python 2",
   "language": "python",
   "name": "python2"
  },
  "language_info": {
   "codemirror_mode": {
    "name": "ipython",
    "version": 2
   },
   "file_extension": ".py",
   "mimetype": "text/x-python",
   "name": "python",
   "nbconvert_exporter": "python",
   "pygments_lexer": "ipython2",
   "version": "2.7.11"
  }
 },
 "nbformat": 4,
 "nbformat_minor": 0
}
