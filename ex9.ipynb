{
 "cells": [
  {
   "cell_type": "code",
   "execution_count": 1,
   "metadata": {
    "collapsed": false
   },
   "outputs": [],
   "source": [
    "from random import randint"
   ]
  },
  {
   "cell_type": "code",
   "execution_count": 2,
   "metadata": {
    "collapsed": true
   },
   "outputs": [],
   "source": [
    "num = randint(0,9)\n",
    "count =0"
   ]
  },
  {
   "cell_type": "code",
   "execution_count": null,
   "metadata": {
    "collapsed": false
   },
   "outputs": [
    {
     "name": "stdout",
     "output_type": "stream",
     "text": [
      "Guess the number..5\n",
      "too high\n",
      "Guess the number..3\n",
      "too high\n",
      "Guess the number..1\n",
      "too low\n",
      "Guess the number..2\n",
      "Exactly right.\n",
      "No. of guesses = 3\n"
     ]
    }
   ],
   "source": [
    "while True:\n",
    "    a=raw_input(\"Guess the number..\")\n",
    "    if a=='exit':\n",
    "        break\n",
    "    else:\n",
    "        if int(a)==num:\n",
    "            count = count + 1\n",
    "            print \"Exactly right\"+\".\\n\"+\"No. of guesses = %d\"%count\n",
    "        elif int(a)>num:\n",
    "            count = count+1\n",
    "            print \"too high\"\n",
    "        else:\n",
    "            count = count+1\n",
    "            print \"too low\""
   ]
  }
 ],
 "metadata": {
  "kernelspec": {
   "display_name": "Python 2",
   "language": "python",
   "name": "python2"
  },
  "language_info": {
   "codemirror_mode": {
    "name": "ipython",
    "version": 2
   },
   "file_extension": ".py",
   "mimetype": "text/x-python",
   "name": "python",
   "nbconvert_exporter": "python",
   "pygments_lexer": "ipython2",
   "version": "2.7.11"
  }
 },
 "nbformat": 4,
 "nbformat_minor": 0
}
